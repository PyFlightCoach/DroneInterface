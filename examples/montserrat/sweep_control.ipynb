{
 "cells": [
  {
   "cell_type": "code",
   "execution_count": 2,
   "metadata": {},
   "outputs": [
    {
     "ename": "ValueError",
     "evalue": "invalid literal for int() with base 10: '24.csv'",
     "output_type": "error",
     "traceback": [
      "\u001b[0;31m---------------------------------------------------------------------------\u001b[0m",
      "\u001b[0;31mValueError\u001b[0m                                Traceback (most recent call last)",
      "Cell \u001b[0;32mIn[2], line 4\u001b[0m\n\u001b[1;32m      1\u001b[0m \u001b[39mfrom\u001b[39;00m \u001b[39mdroneinterface\u001b[39;00m \u001b[39mimport\u001b[39;00m Connection, Vehicle\n\u001b[1;32m      2\u001b[0m \u001b[39mfrom\u001b[39;00m \u001b[39mpathlib\u001b[39;00m \u001b[39mimport\u001b[39;00m Path\n\u001b[0;32m----> 4\u001b[0m conn \u001b[39m=\u001b[39m Connection\u001b[39m.\u001b[39;49mparse_folder(Path(\u001b[39m\"\u001b[39;49m\u001b[39mlog_tmp/flight_1_shakedown/Conn_2023_05_17_22_26_47\u001b[39;49m\u001b[39m\"\u001b[39;49m))\n",
      "File \u001b[0;32m~/source/DroneInterface/droneinterface/connection.py:133\u001b[0m, in \u001b[0;36mConnection.parse_folder\u001b[0;34m(outdir)\u001b[0m\n\u001b[1;32m    130\u001b[0m conn \u001b[39m=\u001b[39m Connection(\u001b[39mNone\u001b[39;00m, outdir)\n\u001b[1;32m    132\u001b[0m \u001b[39mfor\u001b[39;00m f \u001b[39min\u001b[39;00m outdir\u001b[39m.\u001b[39mglob(\u001b[39m\"\u001b[39m\u001b[39m*.csv\u001b[39m\u001b[39m\"\u001b[39m):\n\u001b[0;32m--> 133\u001b[0m     conn\u001b[39m.\u001b[39mmsgs[\u001b[39mint\u001b[39m(f\u001b[39m.\u001b[39mname\u001b[39m.\u001b[39msplit(\u001b[39m\"\u001b[39m\u001b[39m_\u001b[39m\u001b[39m\"\u001b[39m)[\u001b[39m0\u001b[39m])] \u001b[39m=\u001b[39m LastMessage\u001b[39m.\u001b[39;49mbuild_csv(f)\n\u001b[1;32m    134\u001b[0m \u001b[39mreturn\u001b[39;00m conn\n",
      "File \u001b[0;32m~/source/DroneInterface/droneinterface/last_message.py:61\u001b[0m, in \u001b[0;36mLastMessage.build_csv\u001b[0;34m(outfile)\u001b[0m\n\u001b[1;32m     59\u001b[0m \u001b[39m@staticmethod\u001b[39m\n\u001b[1;32m     60\u001b[0m \u001b[39mdef\u001b[39;00m \u001b[39mbuild_csv\u001b[39m(outfile: Path):\n\u001b[0;32m---> 61\u001b[0m     msgid \u001b[39m=\u001b[39m \u001b[39mint\u001b[39;49m(outfile\u001b[39m.\u001b[39;49mname\u001b[39m.\u001b[39;49msplit(\u001b[39m\"\u001b[39;49m\u001b[39m_\u001b[39;49m\u001b[39m\"\u001b[39;49m)[\u001b[39m1\u001b[39;49m])         \n\u001b[1;32m     62\u001b[0m     \u001b[39mreturn\u001b[39;00m LastMessage\u001b[39m.\u001b[39m_build_mavlink(mavlink\u001b[39m.\u001b[39mmavlink_map[msgid], outfile)\n",
      "\u001b[0;31mValueError\u001b[0m: invalid literal for int() with base 10: '24.csv'"
     ]
    }
   ],
   "source": [
    "from droneinterface import Connection, Vehicle\n",
    "from pathlib import Path\n",
    "\n",
    "conn = Connection.parse_folder(Path(\"log_tmp/flight_1_shakedown/Conn_2023_05_17_22_26_47\"))"
   ]
  },
  {
   "cell_type": "code",
   "execution_count": null,
   "metadata": {},
   "outputs": [],
   "source": []
  }
 ],
 "metadata": {
  "kernelspec": {
   "display_name": "droneinterface",
   "language": "python",
   "name": "python3"
  },
  "language_info": {
   "codemirror_mode": {
    "name": "ipython",
    "version": 3
   },
   "file_extension": ".py",
   "mimetype": "text/x-python",
   "name": "python",
   "nbconvert_exporter": "python",
   "pygments_lexer": "ipython3",
   "version": "3.11.0"
  },
  "orig_nbformat": 4
 },
 "nbformat": 4,
 "nbformat_minor": 2
}
